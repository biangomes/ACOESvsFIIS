{
 "cells": [
  {
   "cell_type": "markdown",
   "metadata": {},
   "source": [
    "# Comparação da taxa de retorno de ações e fundos imobiliários."
   ]
  },
  {
   "cell_type": "markdown",
   "metadata": {},
   "source": [
    "- __Autora__: Beatriz Nascimento\n",
    "- __Data de início__: 05 de setembro de 2020.\n",
    "- __Última modificação__: 05 de setembro de 2020.\n",
    "- __Data de conclusão__:\n",
    "- __Descrição__:\n",
    "    - Comparação entre uma lista de 3 ativos - ITAÚSA, TAESA e Energisa - e uma lista de 3 fundos imobiliários - BPF11, HGLG11 e BRCR11.\n",
    "    - A comparação deu-se apenas em volta da taxa de retorno.\n",
    "    - Período de comparação: 01 de janeiro de 2018 e 04 de setembro de 2020.\n",
    "    - A fonte de dados foi o Yahoo Finances."
   ]
  },
  {
   "cell_type": "code",
   "execution_count": null,
   "metadata": {},
   "outputs": [],
   "source": [
    "import numpy as np\n",
    "import matplotlib.pyplot as plt\n",
    "import pandas as pd\n",
    "from pandas_datareader import data as web"
   ]
  },
  {
   "cell_type": "code",
   "execution_count": null,
   "metadata": {},
   "outputs": [],
   "source": [
    "acoes = [\"ITSA4.SA\", \"TAEE3.SA\", \"ENGI3.SA\"]"
   ]
  },
  {
   "cell_type": "code",
   "execution_count": null,
   "metadata": {},
   "outputs": [],
   "source": [
    "meus_dados_acoes = pd.DataFrame() # aqui vai armazenar em frames\n",
    "for i in acoes:\n",
    "    meus_dados_acoes[i] = web.DataReader(i, data_source=\"yahoo\", start=\"2018-01-01\", end=\"2020-09-04\")[\"Adj Close\"]"
   ]
  },
  {
   "cell_type": "code",
   "execution_count": null,
   "metadata": {},
   "outputs": [],
   "source": [
    "fiis = [\"BPFF11.SA\", \"HGLG11.SA\", \"BRCR11.SA\"]"
   ]
  },
  {
   "cell_type": "code",
   "execution_count": null,
   "metadata": {},
   "outputs": [],
   "source": [
    "meus_dados_fiis = pd.DataFrame()\n",
    "for j in fiis:\n",
    "    meus_dados_fiis[j] = web.DataReader(j, data_source=\"yahoo\", start=\"2018-01-01\", end=\"2020-09-04\")[\"Adj Close\"]"
   ]
  },
  {
   "cell_type": "code",
   "execution_count": null,
   "metadata": {
    "scrolled": true
   },
   "outputs": [],
   "source": [
    "# aqui apenas verificamos os dados das ações retirados da nossa fonte.\n",
    "meus_dados_acoes"
   ]
  },
  {
   "cell_type": "code",
   "execution_count": null,
   "metadata": {
    "scrolled": true
   },
   "outputs": [],
   "source": [
    "# aqui apenas verificamos os dados dos FIIs retirados da nossa fonte.\n",
    "meus_dados_fiis"
   ]
  },
  {
   "cell_type": "code",
   "execution_count": null,
   "metadata": {},
   "outputs": [],
   "source": [
    "# print dos dados da primeira linha da tabela de ações e FIIs.\n",
    "print(\"DADOS DAS AÇÕES\")\n",
    "print(\"\\n\")\n",
    "print(meus_dados_acoes.iloc[0])\n",
    "print(\"\\n\")\n",
    "print(\"DADOS DOS FIIS\")\n",
    "print(\"\\n\")\n",
    "print(meus_dados_fiis.iloc[0])"
   ]
  },
  {
   "cell_type": "code",
   "execution_count": null,
   "metadata": {
    "scrolled": true
   },
   "outputs": [],
   "source": [
    "# plot dos dados do dia atual dividido pelo dia anterior\n",
    "((meus_dados_acoes / meus_dados_acoes.iloc[0])*100).plot(figsize=(20,15))"
   ]
  },
  {
   "cell_type": "code",
   "execution_count": null,
   "metadata": {
    "scrolled": true
   },
   "outputs": [],
   "source": [
    "# plot dos dados do dia atual dividido pelo dia anterior\n",
    "(meus_dados_fiis / meus_dados_fiis.iloc[0]).plot(figsize=(12,10))"
   ]
  },
  {
   "cell_type": "markdown",
   "metadata": {},
   "source": [
    "### Taxa de retorno simples percentual."
   ]
  },
  {
   "cell_type": "markdown",
   "metadata": {},
   "source": [
    "$$ \\alpha = \\frac {P_{f} - P_{i}} {P_{i}} . 100 $$"
   ]
  },
  {
   "cell_type": "code",
   "execution_count": null,
   "metadata": {},
   "outputs": [],
   "source": [
    "# aqui eu utilizo a formula acima.\n",
    "alpha = ((meus_dados_acoes - meus_dados_acoes.shift(1))/meus_dados_acoes.shift(1)) * 100"
   ]
  },
  {
   "cell_type": "code",
   "execution_count": null,
   "metadata": {},
   "outputs": [],
   "source": [
    "# plot do alpha, calculado acima\n",
    "# nesse gráfico, é possível ver a taxa de retorno.\n",
    "alpha.plot(figsize=(20,12))"
   ]
  },
  {
   "cell_type": "code",
   "execution_count": null,
   "metadata": {},
   "outputs": [],
   "source": [
    "# agora nós podemos ver a taxa de retorno da carteira de ações em MÉDIA.\n",
    "alpha.mean().plot(figsize=(20,12))"
   ]
  }
 ],
 "metadata": {
  "kernelspec": {
   "display_name": "Python 3",
   "language": "python",
   "name": "python3"
  },
  "language_info": {
   "codemirror_mode": {
    "name": "ipython",
    "version": 3
   },
   "file_extension": ".py",
   "mimetype": "text/x-python",
   "name": "python",
   "nbconvert_exporter": "python",
   "pygments_lexer": "ipython3",
   "version": "3.7.6"
  }
 },
 "nbformat": 4,
 "nbformat_minor": 4
}
